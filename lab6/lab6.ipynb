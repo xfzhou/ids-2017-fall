{
 "cells": [
  {
   "cell_type": "markdown",
   "metadata": {},
   "source": [
    "# Natural Language Parsing"
   ]
  },
  {
   "cell_type": "markdown",
   "metadata": {},
   "source": [
    "In this lab we learn some basic NLP tasks: text processing, text classification and named entity using an open source library called Natural Language Toolkit(NLTK)[http://www.nltk.org], and the materials in this lab are excerpted from NLTK Book[http://www.nltk.org/book/]. "
   ]
  },
  {
   "cell_type": "markdown",
   "metadata": {},
   "source": [
    "## Getting started\n",
    "In order to use NLTK, first we need to install the library, open a terminal and enter the commands below:\n",
    "\n",
    "$ sudo pip install -U nltk\n",
    "\n",
    "After installation, please go throught the [Chapter 1](http://www.nltk.org/book/ch01.html) relevant parts:\n",
    "\n",
    "1.2 Getting Started with NLTK\n",
    "\n",
    "1.3   Searching Text\n",
    "\n",
    "1.4   Counting Vocabulary"
   ]
  },
  {
   "cell_type": "code",
   "execution_count": null,
   "metadata": {
    "collapsed": true
   },
   "outputs": [],
   "source": [
    "# Experiment with your code here"
   ]
  },
  {
   "cell_type": "markdown",
   "metadata": {},
   "source": [
    "## Regular Expression\n",
    "\n",
    "Many linguistic processing tasks involve pattern matching with regular expression, please go through [Chapter 3](http://www.nltk.org/book/ch03.html) relevant parts:\n",
    "\n",
    "3.4   Regular Expressions for Detecting Word Patterns\n",
    "\n",
    "3.5   Useful Applications of Regular Expressions\n",
    "\n",
    "3.6   Normalizing Text\n",
    "\n",
    "3.7   Regular Expressions for Tokenizing Text\n",
    "\n",
    "#### Exercise questions\n",
    "23, 24"
   ]
  },
  {
   "cell_type": "code",
   "execution_count": null,
   "metadata": {
    "collapsed": true
   },
   "outputs": [],
   "source": [
    "# Experiment with your code here"
   ]
  },
  {
   "cell_type": "markdown",
   "metadata": {},
   "source": [
    "## Categorizing and Tagging Words\n",
    "\n",
    "Learn how to get POS tags in an bottom-up intuitive way, go through [Chapter 5](http://www.nltk.org/book/ch05.html) relevant parts:\n",
    "\n",
    "1   Using a Tagger\n",
    "\n",
    "2   Tagged Corpora\n",
    "\n",
    "4   Automatic Tagging\n",
    "\n",
    "5   N-Gram Tagging\n",
    "\n",
    "#### Exercise questions\n",
    "17, 26"
   ]
  },
  {
   "cell_type": "code",
   "execution_count": null,
   "metadata": {},
   "outputs": [],
   "source": [
    "# Experiment with your code here"
   ]
  },
  {
   "cell_type": "markdown",
   "metadata": {},
   "source": [
    "## Learning to Classify Text\n",
    "\n",
    "Please go through [Chapter 6](http://www.nltk.org/book/ch06.html) relevant parts: \n",
    "\n",
    "1   Supervised Classification\n",
    "\n",
    "2   Further Examples of Supervised Classification\n",
    "\n",
    "3   Evaluation\n",
    "\n",
    "5   Naive Bayes Classifiers\n",
    "\n",
    "4   Decision Trees\n",
    "\n",
    "6   Maximum Entropy Classifiers\n",
    "\n",
    "#### Exercise Questions\n",
    "2"
   ]
  },
  {
   "cell_type": "code",
   "execution_count": null,
   "metadata": {
    "collapsed": true
   },
   "outputs": [],
   "source": [
    "# Experiment with your code here"
   ]
  },
  {
   "cell_type": "markdown",
   "metadata": {},
   "source": [
    "## Extracting Information from Text\n",
    "\n",
    "Please go through relevant parts below in [chapter 7](http://www.nltk.org/book/ch07.html)\n",
    "\n",
    "1   Information Extraction\n",
    "\n",
    "2   Chunking\n",
    "\n",
    "5   Named Entity Recognition\n",
    "\n",
    "6   Relation Extraction\n",
    "\n",
    "#### Exercise question\n",
    "2"
   ]
  },
  {
   "cell_type": "code",
   "execution_count": null,
   "metadata": {
    "collapsed": true
   },
   "outputs": [],
   "source": [
    "# Experiment with your code here"
   ]
  }
 ],
 "metadata": {
  "kernelspec": {
   "display_name": "Python 2",
   "language": "python",
   "name": "python2"
  },
  "language_info": {
   "codemirror_mode": {
    "name": "ipython",
    "version": 2
   },
   "file_extension": ".py",
   "mimetype": "text/x-python",
   "name": "python",
   "nbconvert_exporter": "python",
   "pygments_lexer": "ipython2",
   "version": "2.7.6"
  }
 },
 "nbformat": 4,
 "nbformat_minor": 2
}
